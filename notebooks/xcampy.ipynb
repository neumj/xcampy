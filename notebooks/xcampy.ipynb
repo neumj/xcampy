{
 "cells": [
  {
   "cell_type": "code",
   "execution_count": null,
   "id": "431447b6",
   "metadata": {},
   "outputs": [],
   "source": [
    "%load_ext autoreload\n",
    "%autoreload 2"
   ]
  },
  {
   "cell_type": "code",
   "execution_count": null,
   "id": "e2c8ab7e",
   "metadata": {},
   "outputs": [],
   "source": [
    "from xcampy.image import Image\n",
    "from xcampy.video import Video\n",
    "from xcampy.timeseries import TimeSeries"
   ]
  },
  {
   "cell_type": "code",
   "execution_count": null,
   "id": "a22bd8f4",
   "metadata": {},
   "outputs": [],
   "source": [
    "#basic class Image()\n",
    "imager = Image()\n",
    "imager.take_an_image('/home/neptune/code/xcampy/notebooks','img-05.jpg')"
   ]
  },
  {
   "cell_type": "code",
   "execution_count": null,
   "id": "4bd04236",
   "metadata": {},
   "outputs": [],
   "source": [
    "#basic class Video()\n",
    "video = Video()\n",
    "ideo.take_a_video(10, '/home/neptune/code/xcampy/notebooks','vid-01.h264')"
   ]
  },
  {
   "cell_type": "code",
   "execution_count": null,
   "id": "7077274e",
   "metadata": {},
   "outputs": [],
   "source": [
    "imager = TimeSeries()"
   ]
  },
  {
   "cell_type": "code",
   "execution_count": null,
   "id": "857e45d4",
   "metadata": {},
   "outputs": [],
   "source": [
    "imager.take_n_images(5, 5, '/home/neptune/code/xcampy/notebooks')"
   ]
  },
  {
   "cell_type": "code",
   "execution_count": null,
   "id": "6373aab3",
   "metadata": {},
   "outputs": [],
   "source": [
    "imager.image_in_window((2022,8,3,21,45,0), (2022,8,4,1,0,0), 120, \n",
    "                       '/home/neptune/code/xcampy/notebooks')"
   ]
  },
  {
   "cell_type": "code",
   "execution_count": null,
   "id": "cbdbdee1",
   "metadata": {},
   "outputs": [],
   "source": [
    "imager.take_n_videos(3, 10, 5, '/home/neptune/code/xcampy/notebooks')"
   ]
  },
  {
   "cell_type": "code",
   "execution_count": null,
   "id": "6f5f86ba",
   "metadata": {},
   "outputs": [],
   "source": [
    "imager.video_at_time((2022,8,4,17,17,0), 10, 10, \n",
    "                       '/home/neptune/code/xcampy/notebooks')"
   ]
  }
 ],
 "metadata": {
  "kernelspec": {
   "display_name": "Python 3 (ipykernel)",
   "language": "python",
   "name": "python3"
  },
  "language_info": {
   "codemirror_mode": {
    "name": "ipython",
    "version": 3
   },
   "file_extension": ".py",
   "mimetype": "text/x-python",
   "name": "python",
   "nbconvert_exporter": "python",
   "pygments_lexer": "ipython3",
   "version": "3.9.2"
  }
 },
 "nbformat": 4,
 "nbformat_minor": 5
}
