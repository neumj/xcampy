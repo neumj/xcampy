{
 "cells": [
  {
   "cell_type": "code",
   "execution_count": null,
   "id": "431447b6",
   "metadata": {},
   "outputs": [],
   "source": [
    "%load_ext autoreload\n",
    "%autoreload 2"
   ]
  },
  {
   "cell_type": "code",
   "execution_count": 1,
   "id": "e2c8ab7e",
   "metadata": {},
   "outputs": [],
   "source": [
    "from xcampy.image import Image\n",
    "from xcampy.video import Video\n",
    "from xcampy.timeseries import TimeSeries"
   ]
  },
  {
   "cell_type": "code",
   "execution_count": null,
   "id": "a22bd8f4",
   "metadata": {},
   "outputs": [],
   "source": [
    "imager = Image()"
   ]
  },
  {
   "cell_type": "code",
   "execution_count": null,
   "id": "5eaef77e",
   "metadata": {},
   "outputs": [],
   "source": [
    "imager.take_a_picture('/home/neptune/code/xcampy/notebooks','img-01.jpg')"
   ]
  },
  {
   "cell_type": "code",
   "execution_count": null,
   "id": "4bd04236",
   "metadata": {},
   "outputs": [],
   "source": [
    "video = Video()"
   ]
  },
  {
   "cell_type": "code",
   "execution_count": null,
   "id": "5db50162",
   "metadata": {},
   "outputs": [],
   "source": [
    "video.take_a_video(25, '/home/neptune/code/xcampy/notebooks','vid-01.h264')"
   ]
  },
  {
   "cell_type": "code",
   "execution_count": 2,
   "id": "7077274e",
   "metadata": {},
   "outputs": [],
   "source": [
    "imager = TimeSeries()"
   ]
  },
  {
   "cell_type": "code",
   "execution_count": 3,
   "id": "857e45d4",
   "metadata": {},
   "outputs": [],
   "source": [
    "imager.take_n_images(5, 5, '/home/neptune/code/xcampy/notebooks')"
   ]
  },
  {
   "cell_type": "code",
   "execution_count": null,
   "id": "6373aab3",
   "metadata": {},
   "outputs": [],
   "source": [
    "imager.image_in_window((2022,8,3,21,29,0), (2022,8,3,21,31,0), 10, \n",
    "                       '/home/neptune/code/xcampy/notebooks')"
   ]
  },
  {
   "cell_type": "code",
   "execution_count": null,
   "id": "cbdbdee1",
   "metadata": {},
   "outputs": [],
   "source": []
  }
 ],
 "metadata": {
  "kernelspec": {
   "display_name": "Python 3 (ipykernel)",
   "language": "python",
   "name": "python3"
  },
  "language_info": {
   "codemirror_mode": {
    "name": "ipython",
    "version": 3
   },
   "file_extension": ".py",
   "mimetype": "text/x-python",
   "name": "python",
   "nbconvert_exporter": "python",
   "pygments_lexer": "ipython3",
   "version": "3.9.2"
  }
 },
 "nbformat": 4,
 "nbformat_minor": 5
}
